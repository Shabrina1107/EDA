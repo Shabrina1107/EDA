{
  "nbformat": 4,
  "nbformat_minor": 0,
  "metadata": {
    "colab": {
      "provenance": [],
      "authorship_tag": "ABX9TyN/idU9YXUWG4QvLBqb9blh",
      "include_colab_link": true
    },
    "kernelspec": {
      "name": "python3",
      "display_name": "Python 3"
    },
    "language_info": {
      "name": "python"
    }
  },
  "cells": [
    {
      "cell_type": "markdown",
      "metadata": {
        "id": "view-in-github",
        "colab_type": "text"
      },
      "source": [
        "<a href=\"https://colab.research.google.com/github/Shabrina1107/EDA/blob/main/List_Deal.ipynb\" target=\"_parent\"><img src=\"https://colab.research.google.com/assets/colab-badge.svg\" alt=\"Open In Colab\"/></a>"
      ]
    },
    {
      "cell_type": "code",
      "source": [
        "from google.colab import drive\n",
        "drive.mount('/content/drive')"
      ],
      "metadata": {
        "colab": {
          "base_uri": "https://localhost:8080/"
        },
        "id": "XmzYGDPqUr3e",
        "outputId": "3abadeda-0c4a-453e-f51a-f2cc8164d65a"
      },
      "execution_count": null,
      "outputs": [
        {
          "output_type": "stream",
          "name": "stdout",
          "text": [
            "Mounted at /content/drive\n"
          ]
        }
      ]
    },
    {
      "cell_type": "code",
      "source": [
        "import pandas as pd"
      ],
      "metadata": {
        "id": "U73v-e0hUyQX"
      },
      "execution_count": null,
      "outputs": []
    },
    {
      "cell_type": "code",
      "source": [
        "df = pd.read_csv('/content/drive/MyDrive/Magang/List_Deal.csv')\n",
        "df.head()"
      ],
      "metadata": {
        "colab": {
          "base_uri": "https://localhost:8080/",
          "height": 738
        },
        "id": "GcGEpCblU2cF",
        "outputId": "fb7cb542-f865-4c9e-dc6c-cd16cc3a894b"
      },
      "execution_count": null,
      "outputs": [
        {
          "output_type": "execute_result",
          "data": {
            "text/plain": [
              "  Antrian  ID SPK   Tipe Order            CS  \\\n",
              "0     NaN    6285        order  Gupita-CS 11   \n",
              "1     NaN    6278  cetak ulang    Galuh-CS 4   \n",
              "2     NaN    6276  cetak ulang    Jefry-CS 3   \n",
              "3     NaN    6272  cetak ulang  Gupita-CS 11   \n",
              "4     NaN    6258  order ebook   Vivin-CS 10   \n",
              "\n",
              "                           Konsumen  \\\n",
              "0             BUDI SASTRA PANJAITAN   \n",
              "1                      Febrina Sari   \n",
              "2  Arief Tasrig Nur Gomo, STP, MSi.   \n",
              "3             BUDI SASTRA PANJAITAN   \n",
              "4                    Mukhlis Akhadi   \n",
              "\n",
              "                                             Penulis     Tgl Masuk Naskah  \\\n",
              "0  Dr. BUDI SASTRA PANJAITAN, S.H., M.Hum. Editor...  2023-05-04 13:19:48   \n",
              "1                                       Febrina Sari   2023-05-03 9:59:18   \n",
              "2                   Arief Tasrig Nur Gomo, STP, MSi.  2023-05-02 13:38:32   \n",
              "3  Dr. BUDI SASTRA PANJAITAN, S.H., M.Hum. Editor...   2023-04-28 8:16:22   \n",
              "4                                     Mukhlis Akhadi  2023-04-18 13:29:18   \n",
              "\n",
              "      Tgl Mulai Proses      No Telp Alamat                            Email  \\\n",
              "0  2023-05-04 13:19:48  81262418806    NaN  budisastrapanjaitan@uinsu.ac.id   \n",
              "1   2023-05-03 9:59:18  85263394975    NaN        febri_ghaniya@yahoo.co.id   \n",
              "2  2023-05-02 13:38:32   8129294267    NaN          arieftnurgomo@gmail.com   \n",
              "3   2023-04-28 8:16:22  81262418806    NaN  budisastrapanjaitan@uinsu.ac.id   \n",
              "4  2023-04-18 13:29:18  81411147855    NaN               mukh001@brin.go.id   \n",
              "\n",
              "                                        Judul Naskah Tanggal Deal  \\\n",
              "0   HUKUM BISNIS SUDUT PANDANG ADVOKAT (CETAK ULANG)   2023-05-04   \n",
              "1  Metode Dalam Pengambilan Keputusan (reorder) (...   2023-05-03   \n",
              "2  Healthy Food & 25 Ideas of Healthy Cooking (CE...   2023-05-03   \n",
              "3   HUKUM BISNIS SUDUT PANDANG ADVOKAT (CETAK ULANG)   2023-04-28   \n",
              "4  Radioekologi Radionuklida Kosmogenik (CETAK UL...   2023-04-18   \n",
              "\n",
              "                ISBN  Sales Order  Kuantitas  \\\n",
              "0  978-623-02-6246-3      3234000         22   \n",
              "1                NaN      5720000         55   \n",
              "2  978-623-02-2727-1      4300000         50   \n",
              "3  978-623-02-6246-3      8024001         61   \n",
              "4  978-623-02-3753-9      1100000          1   \n",
              "\n",
              "                                        Alamat Kirim   Nurturing    Deadline  \n",
              "0  AYU ANDIRA(082273624915) Alamat Kirim Buku : D...  Nurturing2  2023-05-09  \n",
              "1  Febrina Sari 085263394975 d/a : Sekolah Tinggi...   Nurturing  2023-05-20  \n",
              "2  Arief Tasrig Nur Gomo, STP, MSi.( 08129294267 ...   Nurturing  2023-05-19  \n",
              "3  wahyu Triono putra (082127685484) jalan suluk ...  Nurturing2  2023-05-03  \n",
              "4  Mukhlis Akhadi 0814 1114 7855 Perumahan Batan ...   Nurturing  2023-05-16  "
            ],
            "text/html": [
              "\n",
              "  <div id=\"df-e983a68e-a2ce-43ca-bf05-5311111d2352\">\n",
              "    <div class=\"colab-df-container\">\n",
              "      <div>\n",
              "<style scoped>\n",
              "    .dataframe tbody tr th:only-of-type {\n",
              "        vertical-align: middle;\n",
              "    }\n",
              "\n",
              "    .dataframe tbody tr th {\n",
              "        vertical-align: top;\n",
              "    }\n",
              "\n",
              "    .dataframe thead th {\n",
              "        text-align: right;\n",
              "    }\n",
              "</style>\n",
              "<table border=\"1\" class=\"dataframe\">\n",
              "  <thead>\n",
              "    <tr style=\"text-align: right;\">\n",
              "      <th></th>\n",
              "      <th>Antrian</th>\n",
              "      <th>ID SPK</th>\n",
              "      <th>Tipe Order</th>\n",
              "      <th>CS</th>\n",
              "      <th>Konsumen</th>\n",
              "      <th>Penulis</th>\n",
              "      <th>Tgl Masuk Naskah</th>\n",
              "      <th>Tgl Mulai Proses</th>\n",
              "      <th>No Telp</th>\n",
              "      <th>Alamat</th>\n",
              "      <th>Email</th>\n",
              "      <th>Judul Naskah</th>\n",
              "      <th>Tanggal Deal</th>\n",
              "      <th>ISBN</th>\n",
              "      <th>Sales Order</th>\n",
              "      <th>Kuantitas</th>\n",
              "      <th>Alamat Kirim</th>\n",
              "      <th>Nurturing</th>\n",
              "      <th>Deadline</th>\n",
              "    </tr>\n",
              "  </thead>\n",
              "  <tbody>\n",
              "    <tr>\n",
              "      <th>0</th>\n",
              "      <td>NaN</td>\n",
              "      <td>6285</td>\n",
              "      <td>order</td>\n",
              "      <td>Gupita-CS 11</td>\n",
              "      <td>BUDI SASTRA PANJAITAN</td>\n",
              "      <td>Dr. BUDI SASTRA PANJAITAN, S.H., M.Hum. Editor...</td>\n",
              "      <td>2023-05-04 13:19:48</td>\n",
              "      <td>2023-05-04 13:19:48</td>\n",
              "      <td>81262418806</td>\n",
              "      <td>NaN</td>\n",
              "      <td>budisastrapanjaitan@uinsu.ac.id</td>\n",
              "      <td>HUKUM BISNIS SUDUT PANDANG ADVOKAT (CETAK ULANG)</td>\n",
              "      <td>2023-05-04</td>\n",
              "      <td>978-623-02-6246-3</td>\n",
              "      <td>3234000</td>\n",
              "      <td>22</td>\n",
              "      <td>AYU ANDIRA(082273624915) Alamat Kirim Buku : D...</td>\n",
              "      <td>Nurturing2</td>\n",
              "      <td>2023-05-09</td>\n",
              "    </tr>\n",
              "    <tr>\n",
              "      <th>1</th>\n",
              "      <td>NaN</td>\n",
              "      <td>6278</td>\n",
              "      <td>cetak ulang</td>\n",
              "      <td>Galuh-CS 4</td>\n",
              "      <td>Febrina Sari</td>\n",
              "      <td>Febrina Sari</td>\n",
              "      <td>2023-05-03 9:59:18</td>\n",
              "      <td>2023-05-03 9:59:18</td>\n",
              "      <td>85263394975</td>\n",
              "      <td>NaN</td>\n",
              "      <td>febri_ghaniya@yahoo.co.id</td>\n",
              "      <td>Metode Dalam Pengambilan Keputusan (reorder) (...</td>\n",
              "      <td>2023-05-03</td>\n",
              "      <td>NaN</td>\n",
              "      <td>5720000</td>\n",
              "      <td>55</td>\n",
              "      <td>Febrina Sari 085263394975 d/a : Sekolah Tinggi...</td>\n",
              "      <td>Nurturing</td>\n",
              "      <td>2023-05-20</td>\n",
              "    </tr>\n",
              "    <tr>\n",
              "      <th>2</th>\n",
              "      <td>NaN</td>\n",
              "      <td>6276</td>\n",
              "      <td>cetak ulang</td>\n",
              "      <td>Jefry-CS 3</td>\n",
              "      <td>Arief Tasrig Nur Gomo, STP, MSi.</td>\n",
              "      <td>Arief Tasrig Nur Gomo, STP, MSi.</td>\n",
              "      <td>2023-05-02 13:38:32</td>\n",
              "      <td>2023-05-02 13:38:32</td>\n",
              "      <td>8129294267</td>\n",
              "      <td>NaN</td>\n",
              "      <td>arieftnurgomo@gmail.com</td>\n",
              "      <td>Healthy Food &amp; 25 Ideas of Healthy Cooking (CE...</td>\n",
              "      <td>2023-05-03</td>\n",
              "      <td>978-623-02-2727-1</td>\n",
              "      <td>4300000</td>\n",
              "      <td>50</td>\n",
              "      <td>Arief Tasrig Nur Gomo, STP, MSi.( 08129294267 ...</td>\n",
              "      <td>Nurturing</td>\n",
              "      <td>2023-05-19</td>\n",
              "    </tr>\n",
              "    <tr>\n",
              "      <th>3</th>\n",
              "      <td>NaN</td>\n",
              "      <td>6272</td>\n",
              "      <td>cetak ulang</td>\n",
              "      <td>Gupita-CS 11</td>\n",
              "      <td>BUDI SASTRA PANJAITAN</td>\n",
              "      <td>Dr. BUDI SASTRA PANJAITAN, S.H., M.Hum. Editor...</td>\n",
              "      <td>2023-04-28 8:16:22</td>\n",
              "      <td>2023-04-28 8:16:22</td>\n",
              "      <td>81262418806</td>\n",
              "      <td>NaN</td>\n",
              "      <td>budisastrapanjaitan@uinsu.ac.id</td>\n",
              "      <td>HUKUM BISNIS SUDUT PANDANG ADVOKAT (CETAK ULANG)</td>\n",
              "      <td>2023-04-28</td>\n",
              "      <td>978-623-02-6246-3</td>\n",
              "      <td>8024001</td>\n",
              "      <td>61</td>\n",
              "      <td>wahyu Triono putra (082127685484) jalan suluk ...</td>\n",
              "      <td>Nurturing2</td>\n",
              "      <td>2023-05-03</td>\n",
              "    </tr>\n",
              "    <tr>\n",
              "      <th>4</th>\n",
              "      <td>NaN</td>\n",
              "      <td>6258</td>\n",
              "      <td>order ebook</td>\n",
              "      <td>Vivin-CS 10</td>\n",
              "      <td>Mukhlis Akhadi</td>\n",
              "      <td>Mukhlis Akhadi</td>\n",
              "      <td>2023-04-18 13:29:18</td>\n",
              "      <td>2023-04-18 13:29:18</td>\n",
              "      <td>81411147855</td>\n",
              "      <td>NaN</td>\n",
              "      <td>mukh001@brin.go.id</td>\n",
              "      <td>Radioekologi Radionuklida Kosmogenik (CETAK UL...</td>\n",
              "      <td>2023-04-18</td>\n",
              "      <td>978-623-02-3753-9</td>\n",
              "      <td>1100000</td>\n",
              "      <td>1</td>\n",
              "      <td>Mukhlis Akhadi 0814 1114 7855 Perumahan Batan ...</td>\n",
              "      <td>Nurturing</td>\n",
              "      <td>2023-05-16</td>\n",
              "    </tr>\n",
              "  </tbody>\n",
              "</table>\n",
              "</div>\n",
              "      <button class=\"colab-df-convert\" onclick=\"convertToInteractive('df-e983a68e-a2ce-43ca-bf05-5311111d2352')\"\n",
              "              title=\"Convert this dataframe to an interactive table.\"\n",
              "              style=\"display:none;\">\n",
              "        \n",
              "  <svg xmlns=\"http://www.w3.org/2000/svg\" height=\"24px\"viewBox=\"0 0 24 24\"\n",
              "       width=\"24px\">\n",
              "    <path d=\"M0 0h24v24H0V0z\" fill=\"none\"/>\n",
              "    <path d=\"M18.56 5.44l.94 2.06.94-2.06 2.06-.94-2.06-.94-.94-2.06-.94 2.06-2.06.94zm-11 1L8.5 8.5l.94-2.06 2.06-.94-2.06-.94L8.5 2.5l-.94 2.06-2.06.94zm10 10l.94 2.06.94-2.06 2.06-.94-2.06-.94-.94-2.06-.94 2.06-2.06.94z\"/><path d=\"M17.41 7.96l-1.37-1.37c-.4-.4-.92-.59-1.43-.59-.52 0-1.04.2-1.43.59L10.3 9.45l-7.72 7.72c-.78.78-.78 2.05 0 2.83L4 21.41c.39.39.9.59 1.41.59.51 0 1.02-.2 1.41-.59l7.78-7.78 2.81-2.81c.8-.78.8-2.07 0-2.86zM5.41 20L4 18.59l7.72-7.72 1.47 1.35L5.41 20z\"/>\n",
              "  </svg>\n",
              "      </button>\n",
              "      \n",
              "  <style>\n",
              "    .colab-df-container {\n",
              "      display:flex;\n",
              "      flex-wrap:wrap;\n",
              "      gap: 12px;\n",
              "    }\n",
              "\n",
              "    .colab-df-convert {\n",
              "      background-color: #E8F0FE;\n",
              "      border: none;\n",
              "      border-radius: 50%;\n",
              "      cursor: pointer;\n",
              "      display: none;\n",
              "      fill: #1967D2;\n",
              "      height: 32px;\n",
              "      padding: 0 0 0 0;\n",
              "      width: 32px;\n",
              "    }\n",
              "\n",
              "    .colab-df-convert:hover {\n",
              "      background-color: #E2EBFA;\n",
              "      box-shadow: 0px 1px 2px rgba(60, 64, 67, 0.3), 0px 1px 3px 1px rgba(60, 64, 67, 0.15);\n",
              "      fill: #174EA6;\n",
              "    }\n",
              "\n",
              "    [theme=dark] .colab-df-convert {\n",
              "      background-color: #3B4455;\n",
              "      fill: #D2E3FC;\n",
              "    }\n",
              "\n",
              "    [theme=dark] .colab-df-convert:hover {\n",
              "      background-color: #434B5C;\n",
              "      box-shadow: 0px 1px 3px 1px rgba(0, 0, 0, 0.15);\n",
              "      filter: drop-shadow(0px 1px 2px rgba(0, 0, 0, 0.3));\n",
              "      fill: #FFFFFF;\n",
              "    }\n",
              "  </style>\n",
              "\n",
              "      <script>\n",
              "        const buttonEl =\n",
              "          document.querySelector('#df-e983a68e-a2ce-43ca-bf05-5311111d2352 button.colab-df-convert');\n",
              "        buttonEl.style.display =\n",
              "          google.colab.kernel.accessAllowed ? 'block' : 'none';\n",
              "\n",
              "        async function convertToInteractive(key) {\n",
              "          const element = document.querySelector('#df-e983a68e-a2ce-43ca-bf05-5311111d2352');\n",
              "          const dataTable =\n",
              "            await google.colab.kernel.invokeFunction('convertToInteractive',\n",
              "                                                     [key], {});\n",
              "          if (!dataTable) return;\n",
              "\n",
              "          const docLinkHtml = 'Like what you see? Visit the ' +\n",
              "            '<a target=\"_blank\" href=https://colab.research.google.com/notebooks/data_table.ipynb>data table notebook</a>'\n",
              "            + ' to learn more about interactive tables.';\n",
              "          element.innerHTML = '';\n",
              "          dataTable['output_type'] = 'display_data';\n",
              "          await google.colab.output.renderOutput(dataTable, element);\n",
              "          const docLink = document.createElement('div');\n",
              "          docLink.innerHTML = docLinkHtml;\n",
              "          element.appendChild(docLink);\n",
              "        }\n",
              "      </script>\n",
              "    </div>\n",
              "  </div>\n",
              "  "
            ]
          },
          "metadata": {},
          "execution_count": 5
        }
      ]
    },
    {
      "cell_type": "code",
      "source": [
        "count_transaksi = df['Konsumen'].value_counts().to_frame()"
      ],
      "metadata": {
        "id": "chtXFsMDbeFp"
      },
      "execution_count": null,
      "outputs": []
    },
    {
      "cell_type": "code",
      "source": [
        "print(count_transaksi)"
      ],
      "metadata": {
        "colab": {
          "base_uri": "https://localhost:8080/"
        },
        "id": "Xkf2rpLrhfBU",
        "outputId": "45a5e01c-36ee-47f3-86b8-b85fdeee5b46"
      },
      "execution_count": null,
      "outputs": [
        {
          "output_type": "stream",
          "name": "stdout",
          "text": [
            "                                                    Konsumen\n",
            "Retno Widyani                                             91\n",
            "Evi Sulistyaningsih                                       80\n",
            "Politeknik Negeri Banjarmasin (Adi Pratomo / Nu...        79\n",
            "Jurusan Teknik Industri Universitas Islam Indon...        38\n",
            "Rr. Retno Widyani                                         29\n",
            "...                                                      ...\n",
            "Siti Fatimah                                               1\n",
            "Irham Widiastha Prabowo                                    1\n",
            "betty A. sahertian                                         1\n",
            "Nova Elok Mardliyana                                       1\n",
            "Mirayanti Raissa                                           1\n",
            "\n",
            "[3576 rows x 1 columns]\n"
          ]
        }
      ]
    },
    {
      "cell_type": "code",
      "source": [
        "data = df.drop(['Antrian', 'Tipe Order', 'CS', 'Konsumen', \n",
        "                  'Penulis', 'Tgl Masuk Naskah', 'Tgl Mulai Proses', \n",
        "                  'No Telp', 'Alamat', 'Judul Naskah', 'ISBN', \n",
        "                  'Kuantitas', 'Alamat Kirim', 'Nurturing', 'Deadline'], axis=1)"
      ],
      "metadata": {
        "id": "CixNrMPfbiMC"
      },
      "execution_count": null,
      "outputs": []
    },
    {
      "cell_type": "code",
      "source": [
        "print(data)"
      ],
      "metadata": {
        "colab": {
          "base_uri": "https://localhost:8080/"
        },
        "id": "_fUR2oi_d1Yf",
        "outputId": "316bc5f7-cf1e-4cc6-de36-48d53f367b52"
      },
      "execution_count": null,
      "outputs": [
        {
          "output_type": "stream",
          "name": "stdout",
          "text": [
            "      ID SPK                            Email Tanggal Deal  Sales Order\n",
            "0       6285  budisastrapanjaitan@uinsu.ac.id   2023-05-04      3234000\n",
            "1       6278        febri_ghaniya@yahoo.co.id   2023-05-03      5720000\n",
            "2       6276          arieftnurgomo@gmail.com   2023-05-03      4300000\n",
            "3       6272  budisastrapanjaitan@uinsu.ac.id   2023-04-28      8024001\n",
            "4       6258               mukh001@brin.go.id   2023-04-18      1100000\n",
            "...      ...                              ...          ...          ...\n",
            "6142       7               botahala@gmail.com          NaN      3648000\n",
            "6143      23  ayudewi_citra@ikipmataram.ac.id          NaN      1776996\n",
            "6144       5               andri.bk@ulm.ac.id          NaN      4235000\n",
            "6145      75           ekosusanto90@gmail.com          NaN      2590000\n",
            "6146      57            mirraraissa@gmail.com          NaN      3365000\n",
            "\n",
            "[6147 rows x 4 columns]\n"
          ]
        }
      ]
    },
    {
      "cell_type": "code",
      "source": [
        "data.isnull().sum()"
      ],
      "metadata": {
        "colab": {
          "base_uri": "https://localhost:8080/"
        },
        "id": "rSnDY_C7VlXd",
        "outputId": "144772e7-e91e-4481-aef5-bac0ac3ccd15"
      },
      "execution_count": null,
      "outputs": [
        {
          "output_type": "execute_result",
          "data": {
            "text/plain": [
              "ID SPK            0\n",
              "Email             0\n",
              "Tanggal Deal    565\n",
              "Sales Order       0\n",
              "dtype: int64"
            ]
          },
          "metadata": {},
          "execution_count": 8
        }
      ]
    },
    {
      "cell_type": "code",
      "source": [
        "data['Tanggal Deal'] = data['Tanggal Deal'].fillna(data['Tanggal Deal'].mode()[0])"
      ],
      "metadata": {
        "id": "Bi8l0rjIrhUJ"
      },
      "execution_count": null,
      "outputs": []
    },
    {
      "cell_type": "code",
      "source": [
        "data.isnull().sum()"
      ],
      "metadata": {
        "colab": {
          "base_uri": "https://localhost:8080/"
        },
        "id": "iAfkCY4Ar05h",
        "outputId": "a09949f2-bfc3-4df4-b9f3-4dbf0291cdcb"
      },
      "execution_count": null,
      "outputs": [
        {
          "output_type": "execute_result",
          "data": {
            "text/plain": [
              "ID SPK          0\n",
              "Email           0\n",
              "Tanggal Deal    0\n",
              "Sales Order     0\n",
              "dtype: int64"
            ]
          },
          "metadata": {},
          "execution_count": 10
        }
      ]
    },
    {
      "cell_type": "code",
      "source": [
        "data.duplicated().sum()"
      ],
      "metadata": {
        "colab": {
          "base_uri": "https://localhost:8080/"
        },
        "id": "I0WewvZRVxIZ",
        "outputId": "30a08bfb-8007-44d8-e738-16f86727b3cd"
      },
      "execution_count": null,
      "outputs": [
        {
          "output_type": "execute_result",
          "data": {
            "text/plain": [
              "1"
            ]
          },
          "metadata": {},
          "execution_count": 11
        }
      ]
    },
    {
      "cell_type": "code",
      "source": [
        "data = data.drop_duplicates()"
      ],
      "metadata": {
        "id": "3BTHH3WfxfsQ"
      },
      "execution_count": null,
      "outputs": []
    },
    {
      "cell_type": "code",
      "source": [
        "data.info()"
      ],
      "metadata": {
        "colab": {
          "base_uri": "https://localhost:8080/"
        },
        "id": "6iTM6Fvy8KE3",
        "outputId": "f1f2325a-de7b-432e-d0d3-db6824abadd8"
      },
      "execution_count": null,
      "outputs": [
        {
          "output_type": "stream",
          "name": "stdout",
          "text": [
            "<class 'pandas.core.frame.DataFrame'>\n",
            "Int64Index: 6146 entries, 0 to 6146\n",
            "Data columns (total 4 columns):\n",
            " #   Column        Non-Null Count  Dtype \n",
            "---  ------        --------------  ----- \n",
            " 0   ID SPK        6146 non-null   int64 \n",
            " 1   Email         6146 non-null   object\n",
            " 2   Tanggal Deal  6146 non-null   object\n",
            " 3   Sales Order   6146 non-null   int64 \n",
            "dtypes: int64(2), object(2)\n",
            "memory usage: 240.1+ KB\n"
          ]
        }
      ]
    },
    {
      "cell_type": "code",
      "source": [
        "import numpy as np\n",
        "import matplotlib.pyplot as plt\n",
        "from sklearn.cluster import KMeans\n",
        "from sklearn.preprocessing import StandardScaler"
      ],
      "metadata": {
        "id": "Y2s26b4C9srk"
      },
      "execution_count": null,
      "outputs": []
    },
    {
      "cell_type": "code",
      "source": [
        "X = df[['Jumlah_Pembelian', 'Frekuensi_Pembelian']]"
      ],
      "metadata": {
        "id": "b4_HR9z38wK4"
      },
      "execution_count": null,
      "outputs": []
    },
    {
      "cell_type": "code",
      "source": [
        "data.describe()"
      ],
      "metadata": {
        "colab": {
          "base_uri": "https://localhost:8080/",
          "height": 300
        },
        "id": "NnaqSAR0WRnY",
        "outputId": "25816164-74a1-4301-e388-af213b85edab"
      },
      "execution_count": null,
      "outputs": [
        {
          "output_type": "execute_result",
          "data": {
            "text/plain": [
              "            ID SPK   Sales Order\n",
              "count  6146.000000  6.146000e+03\n",
              "mean   3150.559551  3.285322e+10\n",
              "std    1798.495752  9.900602e+11\n",
              "min       5.000000  0.000000e+00\n",
              "25%    1602.250000  1.977188e+06\n",
              "50%    3152.500000  3.089900e+06\n",
              "75%    4704.750000  4.941750e+06\n",
              "max    6297.000000  3.750012e+13"
            ],
            "text/html": [
              "\n",
              "  <div id=\"df-ca1cfbeb-cea4-4a38-8c80-1360c192ec32\">\n",
              "    <div class=\"colab-df-container\">\n",
              "      <div>\n",
              "<style scoped>\n",
              "    .dataframe tbody tr th:only-of-type {\n",
              "        vertical-align: middle;\n",
              "    }\n",
              "\n",
              "    .dataframe tbody tr th {\n",
              "        vertical-align: top;\n",
              "    }\n",
              "\n",
              "    .dataframe thead th {\n",
              "        text-align: right;\n",
              "    }\n",
              "</style>\n",
              "<table border=\"1\" class=\"dataframe\">\n",
              "  <thead>\n",
              "    <tr style=\"text-align: right;\">\n",
              "      <th></th>\n",
              "      <th>ID SPK</th>\n",
              "      <th>Sales Order</th>\n",
              "    </tr>\n",
              "  </thead>\n",
              "  <tbody>\n",
              "    <tr>\n",
              "      <th>count</th>\n",
              "      <td>6146.000000</td>\n",
              "      <td>6.146000e+03</td>\n",
              "    </tr>\n",
              "    <tr>\n",
              "      <th>mean</th>\n",
              "      <td>3150.559551</td>\n",
              "      <td>3.285322e+10</td>\n",
              "    </tr>\n",
              "    <tr>\n",
              "      <th>std</th>\n",
              "      <td>1798.495752</td>\n",
              "      <td>9.900602e+11</td>\n",
              "    </tr>\n",
              "    <tr>\n",
              "      <th>min</th>\n",
              "      <td>5.000000</td>\n",
              "      <td>0.000000e+00</td>\n",
              "    </tr>\n",
              "    <tr>\n",
              "      <th>25%</th>\n",
              "      <td>1602.250000</td>\n",
              "      <td>1.977188e+06</td>\n",
              "    </tr>\n",
              "    <tr>\n",
              "      <th>50%</th>\n",
              "      <td>3152.500000</td>\n",
              "      <td>3.089900e+06</td>\n",
              "    </tr>\n",
              "    <tr>\n",
              "      <th>75%</th>\n",
              "      <td>4704.750000</td>\n",
              "      <td>4.941750e+06</td>\n",
              "    </tr>\n",
              "    <tr>\n",
              "      <th>max</th>\n",
              "      <td>6297.000000</td>\n",
              "      <td>3.750012e+13</td>\n",
              "    </tr>\n",
              "  </tbody>\n",
              "</table>\n",
              "</div>\n",
              "      <button class=\"colab-df-convert\" onclick=\"convertToInteractive('df-ca1cfbeb-cea4-4a38-8c80-1360c192ec32')\"\n",
              "              title=\"Convert this dataframe to an interactive table.\"\n",
              "              style=\"display:none;\">\n",
              "        \n",
              "  <svg xmlns=\"http://www.w3.org/2000/svg\" height=\"24px\"viewBox=\"0 0 24 24\"\n",
              "       width=\"24px\">\n",
              "    <path d=\"M0 0h24v24H0V0z\" fill=\"none\"/>\n",
              "    <path d=\"M18.56 5.44l.94 2.06.94-2.06 2.06-.94-2.06-.94-.94-2.06-.94 2.06-2.06.94zm-11 1L8.5 8.5l.94-2.06 2.06-.94-2.06-.94L8.5 2.5l-.94 2.06-2.06.94zm10 10l.94 2.06.94-2.06 2.06-.94-2.06-.94-.94-2.06-.94 2.06-2.06.94z\"/><path d=\"M17.41 7.96l-1.37-1.37c-.4-.4-.92-.59-1.43-.59-.52 0-1.04.2-1.43.59L10.3 9.45l-7.72 7.72c-.78.78-.78 2.05 0 2.83L4 21.41c.39.39.9.59 1.41.59.51 0 1.02-.2 1.41-.59l7.78-7.78 2.81-2.81c.8-.78.8-2.07 0-2.86zM5.41 20L4 18.59l7.72-7.72 1.47 1.35L5.41 20z\"/>\n",
              "  </svg>\n",
              "      </button>\n",
              "      \n",
              "  <style>\n",
              "    .colab-df-container {\n",
              "      display:flex;\n",
              "      flex-wrap:wrap;\n",
              "      gap: 12px;\n",
              "    }\n",
              "\n",
              "    .colab-df-convert {\n",
              "      background-color: #E8F0FE;\n",
              "      border: none;\n",
              "      border-radius: 50%;\n",
              "      cursor: pointer;\n",
              "      display: none;\n",
              "      fill: #1967D2;\n",
              "      height: 32px;\n",
              "      padding: 0 0 0 0;\n",
              "      width: 32px;\n",
              "    }\n",
              "\n",
              "    .colab-df-convert:hover {\n",
              "      background-color: #E2EBFA;\n",
              "      box-shadow: 0px 1px 2px rgba(60, 64, 67, 0.3), 0px 1px 3px 1px rgba(60, 64, 67, 0.15);\n",
              "      fill: #174EA6;\n",
              "    }\n",
              "\n",
              "    [theme=dark] .colab-df-convert {\n",
              "      background-color: #3B4455;\n",
              "      fill: #D2E3FC;\n",
              "    }\n",
              "\n",
              "    [theme=dark] .colab-df-convert:hover {\n",
              "      background-color: #434B5C;\n",
              "      box-shadow: 0px 1px 3px 1px rgba(0, 0, 0, 0.15);\n",
              "      filter: drop-shadow(0px 1px 2px rgba(0, 0, 0, 0.3));\n",
              "      fill: #FFFFFF;\n",
              "    }\n",
              "  </style>\n",
              "\n",
              "      <script>\n",
              "        const buttonEl =\n",
              "          document.querySelector('#df-ca1cfbeb-cea4-4a38-8c80-1360c192ec32 button.colab-df-convert');\n",
              "        buttonEl.style.display =\n",
              "          google.colab.kernel.accessAllowed ? 'block' : 'none';\n",
              "\n",
              "        async function convertToInteractive(key) {\n",
              "          const element = document.querySelector('#df-ca1cfbeb-cea4-4a38-8c80-1360c192ec32');\n",
              "          const dataTable =\n",
              "            await google.colab.kernel.invokeFunction('convertToInteractive',\n",
              "                                                     [key], {});\n",
              "          if (!dataTable) return;\n",
              "\n",
              "          const docLinkHtml = 'Like what you see? Visit the ' +\n",
              "            '<a target=\"_blank\" href=https://colab.research.google.com/notebooks/data_table.ipynb>data table notebook</a>'\n",
              "            + ' to learn more about interactive tables.';\n",
              "          element.innerHTML = '';\n",
              "          dataTable['output_type'] = 'display_data';\n",
              "          await google.colab.output.renderOutput(dataTable, element);\n",
              "          const docLink = document.createElement('div');\n",
              "          docLink.innerHTML = docLinkHtml;\n",
              "          element.appendChild(docLink);\n",
              "        }\n",
              "      </script>\n",
              "    </div>\n",
              "  </div>\n",
              "  "
            ]
          },
          "metadata": {},
          "execution_count": 31
        }
      ]
    },
    {
      "cell_type": "code",
      "source": [
        "count_transaksi1 = data['Email'].value_counts().to_frame()"
      ],
      "metadata": {
        "id": "CPkWk0XfXoeB"
      },
      "execution_count": null,
      "outputs": []
    },
    {
      "cell_type": "code",
      "source": [
        "print(count_transaksi1)"
      ],
      "metadata": {
        "colab": {
          "base_uri": "https://localhost:8080/"
        },
        "id": "LGrzwz8IYKqi",
        "outputId": "ab560757-b709-4fd4-d9a5-bd010dbff7dd"
      },
      "execution_count": null,
      "outputs": [
        {
          "output_type": "stream",
          "name": "stdout",
          "text": [
            "                              Email\n",
            "buevisman4@gmail.com            100\n",
            "deepublish.editor@gmail.com      91\n",
            "info@larispa.or.id               85\n",
            "press@poliban.ac.id              79\n",
            "qurtubi@uii.ac.id                38\n",
            "...                             ...\n",
            "nurulhidayahtumadi@gmail.com      1\n",
            "mohamad.rosyidin@gmail.com        1\n",
            "rachman_djamal@yahoo.co.id        1\n",
            "sekar@ittelkom-sby.ac.id          1\n",
            "mirraraissa@gmail.com             1\n",
            "\n",
            "[3316 rows x 1 columns]\n"
          ]
        }
      ]
    },
    {
      "cell_type": "code",
      "source": [
        "data['jumlah_transaksi'] = data.groupby('Email')['Email'].transform('count')"
      ],
      "metadata": {
        "id": "xWH4B-JU0iAs"
      },
      "execution_count": null,
      "outputs": []
    },
    {
      "cell_type": "code",
      "source": [
        "data['jumlah_transaksi']"
      ],
      "metadata": {
        "colab": {
          "base_uri": "https://localhost:8080/"
        },
        "id": "KmoxehbEKpCa",
        "outputId": "94ff2682-6e01-4826-a01b-4461eb08f2a5"
      },
      "execution_count": null,
      "outputs": [
        {
          "output_type": "execute_result",
          "data": {
            "text/plain": [
              "0        6\n",
              "1        2\n",
              "2        4\n",
              "3        6\n",
              "4       19\n",
              "        ..\n",
              "6142     4\n",
              "6143     3\n",
              "6144    20\n",
              "6145     5\n",
              "6146     1\n",
              "Name: jumlah_transaksi, Length: 6146, dtype: int64"
            ]
          },
          "metadata": {},
          "execution_count": 18
        }
      ]
    },
    {
      "cell_type": "code",
      "source": [
        "data"
      ],
      "metadata": {
        "colab": {
          "base_uri": "https://localhost:8080/",
          "height": 423
        },
        "id": "u9hEVnWYPjOY",
        "outputId": "8dc64bba-5514-492c-dd4e-1699131742e2"
      },
      "execution_count": null,
      "outputs": [
        {
          "output_type": "execute_result",
          "data": {
            "text/plain": [
              "      ID SPK                            Email Tanggal Deal  Sales Order  \\\n",
              "0       6285  budisastrapanjaitan@uinsu.ac.id   2023-05-04      3234000   \n",
              "1       6278        febri_ghaniya@yahoo.co.id   2023-05-03      5720000   \n",
              "2       6276          arieftnurgomo@gmail.com   2023-05-03      4300000   \n",
              "3       6272  budisastrapanjaitan@uinsu.ac.id   2023-04-28      8024001   \n",
              "4       6258               mukh001@brin.go.id   2023-04-18      1100000   \n",
              "...      ...                              ...          ...          ...   \n",
              "6142       7               botahala@gmail.com   2022-05-23      3648000   \n",
              "6143      23  ayudewi_citra@ikipmataram.ac.id   2022-05-23      1776996   \n",
              "6144       5               andri.bk@ulm.ac.id   2022-05-23      4235000   \n",
              "6145      75           ekosusanto90@gmail.com   2022-05-23      2590000   \n",
              "6146      57            mirraraissa@gmail.com   2022-05-23      3365000   \n",
              "\n",
              "      jumlah_transaksi  \n",
              "0                    6  \n",
              "1                    2  \n",
              "2                    4  \n",
              "3                    6  \n",
              "4                   19  \n",
              "...                ...  \n",
              "6142                 4  \n",
              "6143                 3  \n",
              "6144                20  \n",
              "6145                 5  \n",
              "6146                 1  \n",
              "\n",
              "[6146 rows x 5 columns]"
            ],
            "text/html": [
              "\n",
              "  <div id=\"df-06e179b3-a285-4222-a46c-68f29c718987\">\n",
              "    <div class=\"colab-df-container\">\n",
              "      <div>\n",
              "<style scoped>\n",
              "    .dataframe tbody tr th:only-of-type {\n",
              "        vertical-align: middle;\n",
              "    }\n",
              "\n",
              "    .dataframe tbody tr th {\n",
              "        vertical-align: top;\n",
              "    }\n",
              "\n",
              "    .dataframe thead th {\n",
              "        text-align: right;\n",
              "    }\n",
              "</style>\n",
              "<table border=\"1\" class=\"dataframe\">\n",
              "  <thead>\n",
              "    <tr style=\"text-align: right;\">\n",
              "      <th></th>\n",
              "      <th>ID SPK</th>\n",
              "      <th>Email</th>\n",
              "      <th>Tanggal Deal</th>\n",
              "      <th>Sales Order</th>\n",
              "      <th>jumlah_transaksi</th>\n",
              "    </tr>\n",
              "  </thead>\n",
              "  <tbody>\n",
              "    <tr>\n",
              "      <th>0</th>\n",
              "      <td>6285</td>\n",
              "      <td>budisastrapanjaitan@uinsu.ac.id</td>\n",
              "      <td>2023-05-04</td>\n",
              "      <td>3234000</td>\n",
              "      <td>6</td>\n",
              "    </tr>\n",
              "    <tr>\n",
              "      <th>1</th>\n",
              "      <td>6278</td>\n",
              "      <td>febri_ghaniya@yahoo.co.id</td>\n",
              "      <td>2023-05-03</td>\n",
              "      <td>5720000</td>\n",
              "      <td>2</td>\n",
              "    </tr>\n",
              "    <tr>\n",
              "      <th>2</th>\n",
              "      <td>6276</td>\n",
              "      <td>arieftnurgomo@gmail.com</td>\n",
              "      <td>2023-05-03</td>\n",
              "      <td>4300000</td>\n",
              "      <td>4</td>\n",
              "    </tr>\n",
              "    <tr>\n",
              "      <th>3</th>\n",
              "      <td>6272</td>\n",
              "      <td>budisastrapanjaitan@uinsu.ac.id</td>\n",
              "      <td>2023-04-28</td>\n",
              "      <td>8024001</td>\n",
              "      <td>6</td>\n",
              "    </tr>\n",
              "    <tr>\n",
              "      <th>4</th>\n",
              "      <td>6258</td>\n",
              "      <td>mukh001@brin.go.id</td>\n",
              "      <td>2023-04-18</td>\n",
              "      <td>1100000</td>\n",
              "      <td>19</td>\n",
              "    </tr>\n",
              "    <tr>\n",
              "      <th>...</th>\n",
              "      <td>...</td>\n",
              "      <td>...</td>\n",
              "      <td>...</td>\n",
              "      <td>...</td>\n",
              "      <td>...</td>\n",
              "    </tr>\n",
              "    <tr>\n",
              "      <th>6142</th>\n",
              "      <td>7</td>\n",
              "      <td>botahala@gmail.com</td>\n",
              "      <td>2022-05-23</td>\n",
              "      <td>3648000</td>\n",
              "      <td>4</td>\n",
              "    </tr>\n",
              "    <tr>\n",
              "      <th>6143</th>\n",
              "      <td>23</td>\n",
              "      <td>ayudewi_citra@ikipmataram.ac.id</td>\n",
              "      <td>2022-05-23</td>\n",
              "      <td>1776996</td>\n",
              "      <td>3</td>\n",
              "    </tr>\n",
              "    <tr>\n",
              "      <th>6144</th>\n",
              "      <td>5</td>\n",
              "      <td>andri.bk@ulm.ac.id</td>\n",
              "      <td>2022-05-23</td>\n",
              "      <td>4235000</td>\n",
              "      <td>20</td>\n",
              "    </tr>\n",
              "    <tr>\n",
              "      <th>6145</th>\n",
              "      <td>75</td>\n",
              "      <td>ekosusanto90@gmail.com</td>\n",
              "      <td>2022-05-23</td>\n",
              "      <td>2590000</td>\n",
              "      <td>5</td>\n",
              "    </tr>\n",
              "    <tr>\n",
              "      <th>6146</th>\n",
              "      <td>57</td>\n",
              "      <td>mirraraissa@gmail.com</td>\n",
              "      <td>2022-05-23</td>\n",
              "      <td>3365000</td>\n",
              "      <td>1</td>\n",
              "    </tr>\n",
              "  </tbody>\n",
              "</table>\n",
              "<p>6146 rows × 5 columns</p>\n",
              "</div>\n",
              "      <button class=\"colab-df-convert\" onclick=\"convertToInteractive('df-06e179b3-a285-4222-a46c-68f29c718987')\"\n",
              "              title=\"Convert this dataframe to an interactive table.\"\n",
              "              style=\"display:none;\">\n",
              "        \n",
              "  <svg xmlns=\"http://www.w3.org/2000/svg\" height=\"24px\"viewBox=\"0 0 24 24\"\n",
              "       width=\"24px\">\n",
              "    <path d=\"M0 0h24v24H0V0z\" fill=\"none\"/>\n",
              "    <path d=\"M18.56 5.44l.94 2.06.94-2.06 2.06-.94-2.06-.94-.94-2.06-.94 2.06-2.06.94zm-11 1L8.5 8.5l.94-2.06 2.06-.94-2.06-.94L8.5 2.5l-.94 2.06-2.06.94zm10 10l.94 2.06.94-2.06 2.06-.94-2.06-.94-.94-2.06-.94 2.06-2.06.94z\"/><path d=\"M17.41 7.96l-1.37-1.37c-.4-.4-.92-.59-1.43-.59-.52 0-1.04.2-1.43.59L10.3 9.45l-7.72 7.72c-.78.78-.78 2.05 0 2.83L4 21.41c.39.39.9.59 1.41.59.51 0 1.02-.2 1.41-.59l7.78-7.78 2.81-2.81c.8-.78.8-2.07 0-2.86zM5.41 20L4 18.59l7.72-7.72 1.47 1.35L5.41 20z\"/>\n",
              "  </svg>\n",
              "      </button>\n",
              "      \n",
              "  <style>\n",
              "    .colab-df-container {\n",
              "      display:flex;\n",
              "      flex-wrap:wrap;\n",
              "      gap: 12px;\n",
              "    }\n",
              "\n",
              "    .colab-df-convert {\n",
              "      background-color: #E8F0FE;\n",
              "      border: none;\n",
              "      border-radius: 50%;\n",
              "      cursor: pointer;\n",
              "      display: none;\n",
              "      fill: #1967D2;\n",
              "      height: 32px;\n",
              "      padding: 0 0 0 0;\n",
              "      width: 32px;\n",
              "    }\n",
              "\n",
              "    .colab-df-convert:hover {\n",
              "      background-color: #E2EBFA;\n",
              "      box-shadow: 0px 1px 2px rgba(60, 64, 67, 0.3), 0px 1px 3px 1px rgba(60, 64, 67, 0.15);\n",
              "      fill: #174EA6;\n",
              "    }\n",
              "\n",
              "    [theme=dark] .colab-df-convert {\n",
              "      background-color: #3B4455;\n",
              "      fill: #D2E3FC;\n",
              "    }\n",
              "\n",
              "    [theme=dark] .colab-df-convert:hover {\n",
              "      background-color: #434B5C;\n",
              "      box-shadow: 0px 1px 3px 1px rgba(0, 0, 0, 0.15);\n",
              "      filter: drop-shadow(0px 1px 2px rgba(0, 0, 0, 0.3));\n",
              "      fill: #FFFFFF;\n",
              "    }\n",
              "  </style>\n",
              "\n",
              "      <script>\n",
              "        const buttonEl =\n",
              "          document.querySelector('#df-06e179b3-a285-4222-a46c-68f29c718987 button.colab-df-convert');\n",
              "        buttonEl.style.display =\n",
              "          google.colab.kernel.accessAllowed ? 'block' : 'none';\n",
              "\n",
              "        async function convertToInteractive(key) {\n",
              "          const element = document.querySelector('#df-06e179b3-a285-4222-a46c-68f29c718987');\n",
              "          const dataTable =\n",
              "            await google.colab.kernel.invokeFunction('convertToInteractive',\n",
              "                                                     [key], {});\n",
              "          if (!dataTable) return;\n",
              "\n",
              "          const docLinkHtml = 'Like what you see? Visit the ' +\n",
              "            '<a target=\"_blank\" href=https://colab.research.google.com/notebooks/data_table.ipynb>data table notebook</a>'\n",
              "            + ' to learn more about interactive tables.';\n",
              "          element.innerHTML = '';\n",
              "          dataTable['output_type'] = 'display_data';\n",
              "          await google.colab.output.renderOutput(dataTable, element);\n",
              "          const docLink = document.createElement('div');\n",
              "          docLink.innerHTML = docLinkHtml;\n",
              "          element.appendChild(docLink);\n",
              "        }\n",
              "      </script>\n",
              "    </div>\n",
              "  </div>\n",
              "  "
            ]
          },
          "metadata": {},
          "execution_count": 19
        }
      ]
    },
    {
      "cell_type": "code",
      "source": [
        "data.to_excel('List_Fix.xlsx', index=False)"
      ],
      "metadata": {
        "id": "5KFnyoOwWz8Z"
      },
      "execution_count": null,
      "outputs": []
    }
  ]
}