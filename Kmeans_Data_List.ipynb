{
  "nbformat": 4,
  "nbformat_minor": 0,
  "metadata": {
    "colab": {
      "provenance": [],
      "authorship_tag": "ABX9TyPSB4bjpBnm75gk/7ThkSZy",
      "include_colab_link": true
    },
    "kernelspec": {
      "name": "python3",
      "display_name": "Python 3"
    },
    "language_info": {
      "name": "python"
    }
  },
  "cells": [
    {
      "cell_type": "markdown",
      "metadata": {
        "id": "view-in-github",
        "colab_type": "text"
      },
      "source": [
        "<a href=\"https://colab.research.google.com/github/Shabrina1107/EDA/blob/main/Kmeans_Data_List.ipynb\" target=\"_parent\"><img src=\"https://colab.research.google.com/assets/colab-badge.svg\" alt=\"Open In Colab\"/></a>"
      ]
    },
    {
      "cell_type": "code",
      "source": [
        "from google.colab import drive\n",
        "drive.mount('/content/drive')"
      ],
      "metadata": {
        "colab": {
          "base_uri": "https://localhost:8080/"
        },
        "id": "3G1mAFZlHpE1",
        "outputId": "7eb67c4d-431d-4786-d659-12a2ced60049"
      },
      "execution_count": null,
      "outputs": [
        {
          "output_type": "stream",
          "name": "stdout",
          "text": [
            "Mounted at /content/drive\n"
          ]
        }
      ]
    },
    {
      "cell_type": "code",
      "source": [
        "import pandas as pd"
      ],
      "metadata": {
        "id": "sNZWSvtkH4ha"
      },
      "execution_count": null,
      "outputs": []
    },
    {
      "cell_type": "code",
      "source": [
        "df = pd.read_csv('/content/drive/MyDrive/Magang/List_fixx.csv')\n",
        "df"
      ],
      "metadata": {
        "colab": {
          "base_uri": "https://localhost:8080/",
          "height": 423
        },
        "id": "Kw0_T2vuIafg",
        "outputId": "335f2bb9-8ea1-4230-b59e-12cc73dd05dc"
      },
      "execution_count": null,
      "outputs": [
        {
          "output_type": "execute_result",
          "data": {
            "text/plain": [
              "      ID SPK                            Email Tanggal Deal  Sales Order  \\\n",
              "0       6285  budisastrapanjaitan@uinsu.ac.id     5/4/2023    3234000.0   \n",
              "1       6278        febri_ghaniya@yahoo.co.id     5/3/2023    5720000.0   \n",
              "2       6276          arieftnurgomo@gmail.com     5/3/2023    4300000.0   \n",
              "3       6272  budisastrapanjaitan@uinsu.ac.id    4/28/2023    8024001.0   \n",
              "4       6258               mukh001@brin.go.id    4/18/2023    1100000.0   \n",
              "...      ...                              ...          ...          ...   \n",
              "6141       7               botahala@gmail.com    5/23/2022    3648000.0   \n",
              "6142      23  ayudewi_citra@ikipmataram.ac.id    5/23/2022    1776996.0   \n",
              "6143       5               andri.bk@ulm.ac.id    5/23/2022    4235000.0   \n",
              "6144      75           ekosusanto90@gmail.com    5/23/2022    2590000.0   \n",
              "6145      57            mirraraissa@gmail.com    5/23/2022    3365000.0   \n",
              "\n",
              "      jumlah_transaksi    ID  \n",
              "0                    6   570  \n",
              "1                    2  1023  \n",
              "2                    4   350  \n",
              "3                    6   570  \n",
              "4                   19  1938  \n",
              "...                ...   ...  \n",
              "6141                 4   550  \n",
              "6142                 3   451  \n",
              "6143                20   264  \n",
              "6144                 5   868  \n",
              "6145                 1  1851  \n",
              "\n",
              "[6146 rows x 6 columns]"
            ],
            "text/html": [
              "\n",
              "  <div id=\"df-622013a6-5422-422a-b292-3a5fda326a76\">\n",
              "    <div class=\"colab-df-container\">\n",
              "      <div>\n",
              "<style scoped>\n",
              "    .dataframe tbody tr th:only-of-type {\n",
              "        vertical-align: middle;\n",
              "    }\n",
              "\n",
              "    .dataframe tbody tr th {\n",
              "        vertical-align: top;\n",
              "    }\n",
              "\n",
              "    .dataframe thead th {\n",
              "        text-align: right;\n",
              "    }\n",
              "</style>\n",
              "<table border=\"1\" class=\"dataframe\">\n",
              "  <thead>\n",
              "    <tr style=\"text-align: right;\">\n",
              "      <th></th>\n",
              "      <th>ID SPK</th>\n",
              "      <th>Email</th>\n",
              "      <th>Tanggal Deal</th>\n",
              "      <th>Sales Order</th>\n",
              "      <th>jumlah_transaksi</th>\n",
              "      <th>ID</th>\n",
              "    </tr>\n",
              "  </thead>\n",
              "  <tbody>\n",
              "    <tr>\n",
              "      <th>0</th>\n",
              "      <td>6285</td>\n",
              "      <td>budisastrapanjaitan@uinsu.ac.id</td>\n",
              "      <td>5/4/2023</td>\n",
              "      <td>3234000.0</td>\n",
              "      <td>6</td>\n",
              "      <td>570</td>\n",
              "    </tr>\n",
              "    <tr>\n",
              "      <th>1</th>\n",
              "      <td>6278</td>\n",
              "      <td>febri_ghaniya@yahoo.co.id</td>\n",
              "      <td>5/3/2023</td>\n",
              "      <td>5720000.0</td>\n",
              "      <td>2</td>\n",
              "      <td>1023</td>\n",
              "    </tr>\n",
              "    <tr>\n",
              "      <th>2</th>\n",
              "      <td>6276</td>\n",
              "      <td>arieftnurgomo@gmail.com</td>\n",
              "      <td>5/3/2023</td>\n",
              "      <td>4300000.0</td>\n",
              "      <td>4</td>\n",
              "      <td>350</td>\n",
              "    </tr>\n",
              "    <tr>\n",
              "      <th>3</th>\n",
              "      <td>6272</td>\n",
              "      <td>budisastrapanjaitan@uinsu.ac.id</td>\n",
              "      <td>4/28/2023</td>\n",
              "      <td>8024001.0</td>\n",
              "      <td>6</td>\n",
              "      <td>570</td>\n",
              "    </tr>\n",
              "    <tr>\n",
              "      <th>4</th>\n",
              "      <td>6258</td>\n",
              "      <td>mukh001@brin.go.id</td>\n",
              "      <td>4/18/2023</td>\n",
              "      <td>1100000.0</td>\n",
              "      <td>19</td>\n",
              "      <td>1938</td>\n",
              "    </tr>\n",
              "    <tr>\n",
              "      <th>...</th>\n",
              "      <td>...</td>\n",
              "      <td>...</td>\n",
              "      <td>...</td>\n",
              "      <td>...</td>\n",
              "      <td>...</td>\n",
              "      <td>...</td>\n",
              "    </tr>\n",
              "    <tr>\n",
              "      <th>6141</th>\n",
              "      <td>7</td>\n",
              "      <td>botahala@gmail.com</td>\n",
              "      <td>5/23/2022</td>\n",
              "      <td>3648000.0</td>\n",
              "      <td>4</td>\n",
              "      <td>550</td>\n",
              "    </tr>\n",
              "    <tr>\n",
              "      <th>6142</th>\n",
              "      <td>23</td>\n",
              "      <td>ayudewi_citra@ikipmataram.ac.id</td>\n",
              "      <td>5/23/2022</td>\n",
              "      <td>1776996.0</td>\n",
              "      <td>3</td>\n",
              "      <td>451</td>\n",
              "    </tr>\n",
              "    <tr>\n",
              "      <th>6143</th>\n",
              "      <td>5</td>\n",
              "      <td>andri.bk@ulm.ac.id</td>\n",
              "      <td>5/23/2022</td>\n",
              "      <td>4235000.0</td>\n",
              "      <td>20</td>\n",
              "      <td>264</td>\n",
              "    </tr>\n",
              "    <tr>\n",
              "      <th>6144</th>\n",
              "      <td>75</td>\n",
              "      <td>ekosusanto90@gmail.com</td>\n",
              "      <td>5/23/2022</td>\n",
              "      <td>2590000.0</td>\n",
              "      <td>5</td>\n",
              "      <td>868</td>\n",
              "    </tr>\n",
              "    <tr>\n",
              "      <th>6145</th>\n",
              "      <td>57</td>\n",
              "      <td>mirraraissa@gmail.com</td>\n",
              "      <td>5/23/2022</td>\n",
              "      <td>3365000.0</td>\n",
              "      <td>1</td>\n",
              "      <td>1851</td>\n",
              "    </tr>\n",
              "  </tbody>\n",
              "</table>\n",
              "<p>6146 rows × 6 columns</p>\n",
              "</div>\n",
              "      <button class=\"colab-df-convert\" onclick=\"convertToInteractive('df-622013a6-5422-422a-b292-3a5fda326a76')\"\n",
              "              title=\"Convert this dataframe to an interactive table.\"\n",
              "              style=\"display:none;\">\n",
              "        \n",
              "  <svg xmlns=\"http://www.w3.org/2000/svg\" height=\"24px\"viewBox=\"0 0 24 24\"\n",
              "       width=\"24px\">\n",
              "    <path d=\"M0 0h24v24H0V0z\" fill=\"none\"/>\n",
              "    <path d=\"M18.56 5.44l.94 2.06.94-2.06 2.06-.94-2.06-.94-.94-2.06-.94 2.06-2.06.94zm-11 1L8.5 8.5l.94-2.06 2.06-.94-2.06-.94L8.5 2.5l-.94 2.06-2.06.94zm10 10l.94 2.06.94-2.06 2.06-.94-2.06-.94-.94-2.06-.94 2.06-2.06.94z\"/><path d=\"M17.41 7.96l-1.37-1.37c-.4-.4-.92-.59-1.43-.59-.52 0-1.04.2-1.43.59L10.3 9.45l-7.72 7.72c-.78.78-.78 2.05 0 2.83L4 21.41c.39.39.9.59 1.41.59.51 0 1.02-.2 1.41-.59l7.78-7.78 2.81-2.81c.8-.78.8-2.07 0-2.86zM5.41 20L4 18.59l7.72-7.72 1.47 1.35L5.41 20z\"/>\n",
              "  </svg>\n",
              "      </button>\n",
              "      \n",
              "  <style>\n",
              "    .colab-df-container {\n",
              "      display:flex;\n",
              "      flex-wrap:wrap;\n",
              "      gap: 12px;\n",
              "    }\n",
              "\n",
              "    .colab-df-convert {\n",
              "      background-color: #E8F0FE;\n",
              "      border: none;\n",
              "      border-radius: 50%;\n",
              "      cursor: pointer;\n",
              "      display: none;\n",
              "      fill: #1967D2;\n",
              "      height: 32px;\n",
              "      padding: 0 0 0 0;\n",
              "      width: 32px;\n",
              "    }\n",
              "\n",
              "    .colab-df-convert:hover {\n",
              "      background-color: #E2EBFA;\n",
              "      box-shadow: 0px 1px 2px rgba(60, 64, 67, 0.3), 0px 1px 3px 1px rgba(60, 64, 67, 0.15);\n",
              "      fill: #174EA6;\n",
              "    }\n",
              "\n",
              "    [theme=dark] .colab-df-convert {\n",
              "      background-color: #3B4455;\n",
              "      fill: #D2E3FC;\n",
              "    }\n",
              "\n",
              "    [theme=dark] .colab-df-convert:hover {\n",
              "      background-color: #434B5C;\n",
              "      box-shadow: 0px 1px 3px 1px rgba(0, 0, 0, 0.15);\n",
              "      filter: drop-shadow(0px 1px 2px rgba(0, 0, 0, 0.3));\n",
              "      fill: #FFFFFF;\n",
              "    }\n",
              "  </style>\n",
              "\n",
              "      <script>\n",
              "        const buttonEl =\n",
              "          document.querySelector('#df-622013a6-5422-422a-b292-3a5fda326a76 button.colab-df-convert');\n",
              "        buttonEl.style.display =\n",
              "          google.colab.kernel.accessAllowed ? 'block' : 'none';\n",
              "\n",
              "        async function convertToInteractive(key) {\n",
              "          const element = document.querySelector('#df-622013a6-5422-422a-b292-3a5fda326a76');\n",
              "          const dataTable =\n",
              "            await google.colab.kernel.invokeFunction('convertToInteractive',\n",
              "                                                     [key], {});\n",
              "          if (!dataTable) return;\n",
              "\n",
              "          const docLinkHtml = 'Like what you see? Visit the ' +\n",
              "            '<a target=\"_blank\" href=https://colab.research.google.com/notebooks/data_table.ipynb>data table notebook</a>'\n",
              "            + ' to learn more about interactive tables.';\n",
              "          element.innerHTML = '';\n",
              "          dataTable['output_type'] = 'display_data';\n",
              "          await google.colab.output.renderOutput(dataTable, element);\n",
              "          const docLink = document.createElement('div');\n",
              "          docLink.innerHTML = docLinkHtml;\n",
              "          element.appendChild(docLink);\n",
              "        }\n",
              "      </script>\n",
              "    </div>\n",
              "  </div>\n",
              "  "
            ]
          },
          "metadata": {},
          "execution_count": 3
        }
      ]
    },
    {
      "cell_type": "code",
      "source": [
        "count_transaksi = df['ID'].value_counts().to_frame()"
      ],
      "metadata": {
        "id": "Y4iwNUfULGo7"
      },
      "execution_count": null,
      "outputs": []
    },
    {
      "cell_type": "code",
      "source": [
        "print(count_transaksi)"
      ],
      "metadata": {
        "colab": {
          "base_uri": "https://localhost:8080/"
        },
        "id": "FvfvDZ2xLoNI",
        "outputId": "5fa7b2c8-c6d2-4723-af5b-3b4367e71e59"
      },
      "execution_count": null,
      "outputs": [
        {
          "output_type": "stream",
          "name": "stdout",
          "text": [
            "       ID\n",
            "676   120\n",
            "572   100\n",
            "1380   85\n",
            "2224   79\n",
            "2270   38\n",
            "...   ...\n",
            "2309    1\n",
            "1666    1\n",
            "2612    1\n",
            "293     1\n",
            "1851    1\n",
            "\n",
            "[3299 rows x 1 columns]\n"
          ]
        }
      ]
    },
    {
      "cell_type": "code",
      "source": [
        "siapa = df[df['ID'] == 676]"
      ],
      "metadata": {
        "id": "cakgBe-8MAxV"
      },
      "execution_count": null,
      "outputs": []
    },
    {
      "cell_type": "code",
      "source": [
        "print(siapa['Email'])"
      ],
      "metadata": {
        "colab": {
          "base_uri": "https://localhost:8080/"
        },
        "id": "oYyTbVTuMIU1",
        "outputId": "85f385f9-cc08-491b-c499-4799bd3a83e2"
      },
      "execution_count": null,
      "outputs": [
        {
          "output_type": "stream",
          "name": "stdout",
          "text": [
            "43      deepublish.editor@gmail.com\n",
            "51      deepublish.editor@gmail.com\n",
            "77      deepublish.editor@gmail.com\n",
            "113     deepublish.editor@gmail.com\n",
            "114     deepublish.editor@gmail.com\n",
            "                   ...             \n",
            "5418    Deepublish.editor@gmail.com\n",
            "5442    Deepublish.editor@gmail.com\n",
            "5443    Deepublish.editor@gmail.com\n",
            "5444    Deepublish.editor@gmail.com\n",
            "5447    Deepublish.editor@gmail.com\n",
            "Name: Email, Length: 120, dtype: object\n"
          ]
        }
      ]
    },
    {
      "cell_type": "code",
      "source": [
        "from sklearn.cluster import KMeans\n",
        "from sklearn.preprocessing import StandardScaler"
      ],
      "metadata": {
        "id": "b8PPYc1MO7_j"
      },
      "execution_count": null,
      "outputs": []
    },
    {
      "cell_type": "code",
      "source": [
        "atribut = ['ID', 'Sales Order', 'jumlah_transaksi']"
      ],
      "metadata": {
        "id": "2ImukRKfO-Eq"
      },
      "execution_count": null,
      "outputs": []
    },
    {
      "cell_type": "code",
      "source": [
        "# Menormalisasi data\n",
        "scaler = StandardScaler()\n",
        "data_scaled = scaler.fit_transform(df[atribut])"
      ],
      "metadata": {
        "id": "JfU7BFWDNutc"
      },
      "execution_count": null,
      "outputs": []
    },
    {
      "cell_type": "code",
      "source": [
        "# Menentukan jumlah cluster yang diinginkan\n",
        "jumlah_cluster = 4"
      ],
      "metadata": {
        "id": "xaORNruSQxu-"
      },
      "execution_count": null,
      "outputs": []
    },
    {
      "cell_type": "markdown",
      "source": [
        "Jumlah klaster sudah diuji menggunakan elbow method sehingga didapatkan jumlah klaster terbaik adalah 4"
      ],
      "metadata": {
        "id": "4Nyvc-nYYzOI"
      }
    },
    {
      "cell_type": "code",
      "source": [
        "# Menerapkan algoritma K-means\n",
        "kmeans = KMeans(n_clusters=jumlah_cluster, random_state=42)\n",
        "kmeans.fit(data_scaled)"
      ],
      "metadata": {
        "colab": {
          "base_uri": "https://localhost:8080/",
          "height": 129
        },
        "id": "8xDJ1tyVQ06i",
        "outputId": "76a5edc7-0505-4cc3-c0fb-45a58d2091be"
      },
      "execution_count": null,
      "outputs": [
        {
          "output_type": "stream",
          "name": "stderr",
          "text": [
            "/usr/local/lib/python3.10/dist-packages/sklearn/cluster/_kmeans.py:870: FutureWarning: The default value of `n_init` will change from 10 to 'auto' in 1.4. Set the value of `n_init` explicitly to suppress the warning\n",
            "  warnings.warn(\n"
          ]
        },
        {
          "output_type": "execute_result",
          "data": {
            "text/plain": [
              "KMeans(n_clusters=4, random_state=42)"
            ],
            "text/html": [
              "<style>#sk-container-id-1 {color: black;background-color: white;}#sk-container-id-1 pre{padding: 0;}#sk-container-id-1 div.sk-toggleable {background-color: white;}#sk-container-id-1 label.sk-toggleable__label {cursor: pointer;display: block;width: 100%;margin-bottom: 0;padding: 0.3em;box-sizing: border-box;text-align: center;}#sk-container-id-1 label.sk-toggleable__label-arrow:before {content: \"▸\";float: left;margin-right: 0.25em;color: #696969;}#sk-container-id-1 label.sk-toggleable__label-arrow:hover:before {color: black;}#sk-container-id-1 div.sk-estimator:hover label.sk-toggleable__label-arrow:before {color: black;}#sk-container-id-1 div.sk-toggleable__content {max-height: 0;max-width: 0;overflow: hidden;text-align: left;background-color: #f0f8ff;}#sk-container-id-1 div.sk-toggleable__content pre {margin: 0.2em;color: black;border-radius: 0.25em;background-color: #f0f8ff;}#sk-container-id-1 input.sk-toggleable__control:checked~div.sk-toggleable__content {max-height: 200px;max-width: 100%;overflow: auto;}#sk-container-id-1 input.sk-toggleable__control:checked~label.sk-toggleable__label-arrow:before {content: \"▾\";}#sk-container-id-1 div.sk-estimator input.sk-toggleable__control:checked~label.sk-toggleable__label {background-color: #d4ebff;}#sk-container-id-1 div.sk-label input.sk-toggleable__control:checked~label.sk-toggleable__label {background-color: #d4ebff;}#sk-container-id-1 input.sk-hidden--visually {border: 0;clip: rect(1px 1px 1px 1px);clip: rect(1px, 1px, 1px, 1px);height: 1px;margin: -1px;overflow: hidden;padding: 0;position: absolute;width: 1px;}#sk-container-id-1 div.sk-estimator {font-family: monospace;background-color: #f0f8ff;border: 1px dotted black;border-radius: 0.25em;box-sizing: border-box;margin-bottom: 0.5em;}#sk-container-id-1 div.sk-estimator:hover {background-color: #d4ebff;}#sk-container-id-1 div.sk-parallel-item::after {content: \"\";width: 100%;border-bottom: 1px solid gray;flex-grow: 1;}#sk-container-id-1 div.sk-label:hover label.sk-toggleable__label {background-color: #d4ebff;}#sk-container-id-1 div.sk-serial::before {content: \"\";position: absolute;border-left: 1px solid gray;box-sizing: border-box;top: 0;bottom: 0;left: 50%;z-index: 0;}#sk-container-id-1 div.sk-serial {display: flex;flex-direction: column;align-items: center;background-color: white;padding-right: 0.2em;padding-left: 0.2em;position: relative;}#sk-container-id-1 div.sk-item {position: relative;z-index: 1;}#sk-container-id-1 div.sk-parallel {display: flex;align-items: stretch;justify-content: center;background-color: white;position: relative;}#sk-container-id-1 div.sk-item::before, #sk-container-id-1 div.sk-parallel-item::before {content: \"\";position: absolute;border-left: 1px solid gray;box-sizing: border-box;top: 0;bottom: 0;left: 50%;z-index: -1;}#sk-container-id-1 div.sk-parallel-item {display: flex;flex-direction: column;z-index: 1;position: relative;background-color: white;}#sk-container-id-1 div.sk-parallel-item:first-child::after {align-self: flex-end;width: 50%;}#sk-container-id-1 div.sk-parallel-item:last-child::after {align-self: flex-start;width: 50%;}#sk-container-id-1 div.sk-parallel-item:only-child::after {width: 0;}#sk-container-id-1 div.sk-dashed-wrapped {border: 1px dashed gray;margin: 0 0.4em 0.5em 0.4em;box-sizing: border-box;padding-bottom: 0.4em;background-color: white;}#sk-container-id-1 div.sk-label label {font-family: monospace;font-weight: bold;display: inline-block;line-height: 1.2em;}#sk-container-id-1 div.sk-label-container {text-align: center;}#sk-container-id-1 div.sk-container {/* jupyter's `normalize.less` sets `[hidden] { display: none; }` but bootstrap.min.css set `[hidden] { display: none !important; }` so we also need the `!important` here to be able to override the default hidden behavior on the sphinx rendered scikit-learn.org. See: https://github.com/scikit-learn/scikit-learn/issues/21755 */display: inline-block !important;position: relative;}#sk-container-id-1 div.sk-text-repr-fallback {display: none;}</style><div id=\"sk-container-id-1\" class=\"sk-top-container\"><div class=\"sk-text-repr-fallback\"><pre>KMeans(n_clusters=4, random_state=42)</pre><b>In a Jupyter environment, please rerun this cell to show the HTML representation or trust the notebook. <br />On GitHub, the HTML representation is unable to render, please try loading this page with nbviewer.org.</b></div><div class=\"sk-container\" hidden><div class=\"sk-item\"><div class=\"sk-estimator sk-toggleable\"><input class=\"sk-toggleable__control sk-hidden--visually\" id=\"sk-estimator-id-1\" type=\"checkbox\" checked><label for=\"sk-estimator-id-1\" class=\"sk-toggleable__label sk-toggleable__label-arrow\">KMeans</label><div class=\"sk-toggleable__content\"><pre>KMeans(n_clusters=4, random_state=42)</pre></div></div></div></div></div>"
            ]
          },
          "metadata": {},
          "execution_count": 12
        }
      ]
    },
    {
      "cell_type": "code",
      "source": [
        "# Menambahkan label cluster ke data pelanggan\n",
        "df['Cluster'] = kmeans.labels_"
      ],
      "metadata": {
        "id": "7bDNWSxpQ8SS"
      },
      "execution_count": null,
      "outputs": []
    },
    {
      "cell_type": "code",
      "source": [
        "# Menampilkan hasil clustering\n",
        "print(df[['Email', 'ID', 'Sales Order', 'jumlah_transaksi', 'Cluster']])"
      ],
      "metadata": {
        "colab": {
          "base_uri": "https://localhost:8080/"
        },
        "id": "GNeBjwgtRCsu",
        "outputId": "2d003921-b860-4c0a-dfec-dd46438431ae"
      },
      "execution_count": null,
      "outputs": [
        {
          "output_type": "stream",
          "name": "stdout",
          "text": [
            "                                Email    ID  Sales Order  jumlah_transaksi  \\\n",
            "0     budisastrapanjaitan@uinsu.ac.id   570    3234000.0                 6   \n",
            "1           febri_ghaniya@yahoo.co.id  1023    5720000.0                 2   \n",
            "2             arieftnurgomo@gmail.com   350    4300000.0                 4   \n",
            "3     budisastrapanjaitan@uinsu.ac.id   570    8024001.0                 6   \n",
            "4                  mukh001@brin.go.id  1938    1100000.0                19   \n",
            "...                               ...   ...          ...               ...   \n",
            "6141               botahala@gmail.com   550    3648000.0                 4   \n",
            "6142  ayudewi_citra@ikipmataram.ac.id   451    1776996.0                 3   \n",
            "6143               andri.bk@ulm.ac.id   264    4235000.0                20   \n",
            "6144           ekosusanto90@gmail.com   868    2590000.0                 5   \n",
            "6145            mirraraissa@gmail.com  1851    3365000.0                 1   \n",
            "\n",
            "      Cluster  \n",
            "0           3  \n",
            "1           3  \n",
            "2           3  \n",
            "3           3  \n",
            "4           0  \n",
            "...       ...  \n",
            "6141        3  \n",
            "6142        3  \n",
            "6143        3  \n",
            "6144        3  \n",
            "6145        0  \n",
            "\n",
            "[6146 rows x 5 columns]\n"
          ]
        }
      ]
    },
    {
      "cell_type": "code",
      "source": [
        "print(df[['ID', 'Cluster']])"
      ],
      "metadata": {
        "colab": {
          "base_uri": "https://localhost:8080/"
        },
        "id": "SKm4T1SF7PYK",
        "outputId": "5e9c646b-2880-438a-91d3-916a166e6041"
      },
      "execution_count": null,
      "outputs": [
        {
          "output_type": "stream",
          "name": "stdout",
          "text": [
            "        ID  Cluster\n",
            "0      570        3\n",
            "1     1023        3\n",
            "2      350        3\n",
            "3      570        3\n",
            "4     1938        0\n",
            "...    ...      ...\n",
            "6141   550        3\n",
            "6142   451        3\n",
            "6143   264        3\n",
            "6144   868        3\n",
            "6145  1851        0\n",
            "\n",
            "[6146 rows x 2 columns]\n"
          ]
        }
      ]
    },
    {
      "cell_type": "code",
      "source": [
        "# Menghitung jumlah pelanggan dalam setiap cluster\n",
        "cluster_counts = df['Cluster'].value_counts()"
      ],
      "metadata": {
        "id": "mmLq8wZhaFDz"
      },
      "execution_count": null,
      "outputs": []
    },
    {
      "cell_type": "code",
      "source": [
        "import matplotlib.pyplot as plt"
      ],
      "metadata": {
        "id": "FAXo9L88ZaKA"
      },
      "execution_count": null,
      "outputs": []
    },
    {
      "cell_type": "code",
      "source": [
        "# Membuat grafik batang\n",
        "plt.bar(cluster_counts.index, cluster_counts.values)\n",
        "plt.xlabel('Cluster')\n",
        "plt.ylabel('ID')\n",
        "plt.title('Jumlah Pelanggan')\n",
        "plt.xticks(cluster_counts.index)\n",
        "plt.show()"
      ],
      "metadata": {
        "colab": {
          "base_uri": "https://localhost:8080/",
          "height": 472
        },
        "id": "VTTgXaHdZXTr",
        "outputId": "e2d69e45-aed2-4fd1-9c23-d65b82d519dd"
      },
      "execution_count": null,
      "outputs": [
        {
          "output_type": "display_data",
          "data": {
            "text/plain": [
              "<Figure size 640x480 with 1 Axes>"
            ],
            "image/png": "[encoded data removed]"
          },
          "metadata": {}
        }
      ]
    }
  ]
}